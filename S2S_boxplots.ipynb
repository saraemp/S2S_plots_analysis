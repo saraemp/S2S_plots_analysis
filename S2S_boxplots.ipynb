{
 "cells": [
  {
   "cell_type": "code",
   "execution_count": null,
   "metadata": {},
   "outputs": [],
   "source": [
    "%matplotlib inline\n",
    "import numpy as np\n",
    "import pandas as pd\n",
    "import matplotlib.pyplot as plt\n",
    "from scipy import stats\n",
    "%matplotlib inline\n",
    "from scipy.optimize import*\n",
    "from numpy import*"
   ]
  },
  {
   "cell_type": "code",
   "execution_count": null,
   "metadata": {},
   "outputs": [],
   "source": [
    "Milliken=pd.read_table(\"/Users/smoron/Documents/Data/Hydro&Climatedata/Milliken_ea_GEOSPHERE_forpython.csv\",  sep=\",\")\n",
    "Milliken = pd.DataFrame(Milliken, columns = Milliken.columns)\n",
    "#print  (Milliken.columns)"
   ]
  },
  {
   "cell_type": "code",
   "execution_count": null,
   "metadata": {},
   "outputs": [],
   "source": [
    "Somme=pd.read_table('/Users/smoron/Documents/Data/Source_to_sink_measurements/Somme_etal_2009.csv', header=0, sep=\",\")\n",
    "Somme_df = pd.DataFrame(Somme, columns = Somme.columns)#Still don't understand why I have to convert Nyberg into dataframe but it works \n",
    "\n",
    "Nyberg_Qs1MT_yr=pd.read_table('/Users/smoron/Documents/Data/Source_to_sink_measurements/Nyberg_Qs>1MT_yr.csv',  header=0, sep=\",\")\n",
    "df = pd.DataFrame(Nyberg_Qs1MT_yr, columns = Nyberg_Qs1MT_yr.columns)#Still don't understand why I have to convert Nyberg into dataframe but it works \n",
    "#print (Nyberg_Qs1MT_yr.columns)"
   ]
  },
  {
   "cell_type": "code",
   "execution_count": null,
   "metadata": {},
   "outputs": [],
   "source": [
    "#Trying to reproduce Fig 8 of Nyberg et al., 2018 Sed Geology https://doi.org/10.1016/j.sedgeo.2018.06.007\n",
    "#But there are lots of -9999 sothat's why the plots don't look ok\n",
    "data1=[df.Sed_Thick[df.Structure_=='Passive Margin'],df.Sed_Thick[df.Structure_=='Extensional']]\n",
    "data2=[df.Sed_Thick[df.MarginType=='Passive'],df.Sed_Thick[df.MarginType=='Active']]\n",
    "plt.subplot(1,2,1)\n",
    "plt.boxplot(data1)\n",
    "plt.subplot(1,2,2)\n",
    "plt.boxplot(data2)\n",
    "#df.Sed_Thick[df.Structure_=='Extensional']\n",
    "\n",
    "#df.Structure_==Basin_type[i]]"
   ]
  },
  {
   "cell_type": "code",
   "execution_count": null,
   "metadata": {},
   "outputs": [],
   "source": []
  }
 ],
 "metadata": {
  "kernelspec": {
   "display_name": "Python 2",
   "language": "python",
   "name": "python2"
  },
  "language_info": {
   "codemirror_mode": {
    "name": "ipython",
    "version": 3
   },
   "file_extension": ".py",
   "mimetype": "text/x-python",
   "name": "python",
   "nbconvert_exporter": "python",
   "pygments_lexer": "ipython3",
   "version": "3.7.0"
  }
 },
 "nbformat": 4,
 "nbformat_minor": 2
}
