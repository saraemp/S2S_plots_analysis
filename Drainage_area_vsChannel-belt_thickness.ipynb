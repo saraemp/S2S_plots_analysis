{
 "cells": [
  {
   "cell_type": "code",
   "execution_count": null,
   "metadata": {},
   "outputs": [],
   "source": [
    "%matplotlib inline\n",
    "import numpy as np\n",
    "import pandas as pd\n",
    "import matplotlib.pyplot as plt\n",
    "from scipy import stats\n",
    "%matplotlib inline\n",
    "from scipy.optimize import*\n",
    "from numpy import*"
   ]
  },
  {
   "cell_type": "code",
   "execution_count": null,
   "metadata": {},
   "outputs": [],
   "source": [
    "Milliken=pd.read_table(\"/Users/smoron/Documents/Data/Hydro&Climatedata/Milliken_ea_GEOSPHERE_forpython.csv\",  sep=\",\")\n",
    "Milliken = pd.DataFrame(Milliken, columns = Milliken.columns)\n",
    "#print  (Milliken.columns)"
   ]
  },
  {
   "cell_type": "code",
   "execution_count": null,
   "metadata": {},
   "outputs": [],
   "source": [
    "Somme=pd.read_table('/Users/smoron/Documents/Data/Source_to_sink_measurements/Somme_etal_2009.csv', header=0, sep=\",\")\n",
    "Somme_df = pd.DataFrame(Somme, columns = Somme.columns)#Still don't understand why I have to convert Nyberg into dataframe but it works \n",
    "\n",
    "Nyberg_Qs1MT_yr=pd.read_table('/Users/smoron/Documents/Data/Source_to_sink_measurements/Nyberg_Qs>1MT_yr.csv',  header=0, sep=\",\")\n",
    "df = pd.DataFrame(Nyberg_Qs1MT_yr, columns = Nyberg_Qs1MT_yr.columns)#Still don't understand why I have to convert Nyberg into dataframe but it works \n",
    "#print (Nyberg_Qs1MT_yr.columns)"
   ]
  },
  {
   "cell_type": "code",
   "execution_count": null,
   "metadata": {},
   "outputs": [],
   "source": [
    "plt.loglog(Milliken.Thickness_m, Milliken.Contributing_Drainage_Area_km2, 'o',c=(0,0,0,.5))\n",
    "plt.xlabel('Channel Belt Thickness (m)')\n",
    "plt.ylabel('Drainage area (km2)')\n",
    "plt.grid(color='grey')\n",
    "x=Milliken.Thickness_m\n",
    "y=249*pow(x,2.44)\n",
    "P90Martin=41.3\n",
    "plt.plot(x, y, c='k', label='y=249x^2.44')\n",
    "plt.plot(P90Martin, 249*pow(P90Martin,2.44),\"*\", c='r', markersize=12)\n",
    "plt.rc('xtick', labelsize=7)    \n",
    "plt.rc('ytick', labelsize=7) \n",
    "\n",
    "plt.tight_layout()\n",
    "#plt.savefig(\"./ADD_NAME.pdf\")\n"
   ]
  },
  {
   "cell_type": "code",
   "execution_count": null,
   "metadata": {},
   "outputs": [],
   "source": []
  }
 ],
 "metadata": {
  "kernelspec": {
   "display_name": "Python 2",
   "language": "python",
   "name": "python2"
  },
  "language_info": {
   "codemirror_mode": {
    "name": "ipython",
    "version": 3
   },
   "file_extension": ".py",
   "mimetype": "text/x-python",
   "name": "python",
   "nbconvert_exporter": "python",
   "pygments_lexer": "ipython3",
   "version": "3.7.0"
  }
 },
 "nbformat": 4,
 "nbformat_minor": 2
}
